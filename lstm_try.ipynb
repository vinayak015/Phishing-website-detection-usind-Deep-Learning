{
 "cells": [
  {
   "cell_type": "markdown",
   "metadata": {},
   "source": [
    "# Phishing website detection using LSTM ## Problem 4: Language model"
   ]
  },
  {
   "cell_type": "code",
   "execution_count": 1,
   "metadata": {},
   "outputs": [
    {
     "name": "stderr",
     "output_type": "stream",
     "text": [
      "C:\\Users\\40750\\AppData\\Local\\Continuum\\anaconda3\\lib\\site-packages\\sklearn\\cross_validation.py:41: DeprecationWarning: This module was deprecated in version 0.18 in favor of the model_selection module into which all the refactored classes and functions are moved. Also note that the interface of the new CV iterators are different from that of this module. This module will be removed in 0.20.\n",
      "  \"This module will be removed in 0.20.\", DeprecationWarning)\n"
     ]
    }
   ],
   "source": [
    "'''\n",
    "author: Vinayak Kumar, email:vinayaksharan.er@gmail.com, dataset taken from:https://research.aalto.fi/en/datasets/phishstorm--phishing--legitimate-url-dataset(f49465b2-c68a-4182-9171-075f0ed797d5).html\n",
    "'''\n",
    "\n",
    "import pandas as pd\n",
    "from string import printable\n",
    "from sklearn.cross_validation import train_test_split\n",
    "df1=pd.read_csv(\"urlset.csv\",encoding='latin-1')"
   ]
  },
  {
   "cell_type": "code",
   "execution_count": 2,
   "metadata": {},
   "outputs": [],
   "source": [
    "domain=list(df1['domain'])\n",
    "labels=list(df1['label'])\n",
    "for i in domain:\n",
    "    if i.startswith('\\'') and i.endswith('\\''):\n",
    "        indx=domain.index(i)\n",
    "        i=i.replace('\\'','')\n",
    "        domain[indx]=i "
   ]
  },
  {
   "cell_type": "code",
   "execution_count": 3,
   "metadata": {},
   "outputs": [
    {
     "name": "stderr",
     "output_type": "stream",
     "text": [
      "C:\\Users\\40750\\AppData\\Local\\Continuum\\anaconda3\\lib\\site-packages\\h5py\\__init__.py:36: FutureWarning: Conversion of the second argument of issubdtype from `float` to `np.floating` is deprecated. In future, it will be treated as `np.float64 == np.dtype(float).type`.\n",
      "  from ._conv import register_converters as _register_converters\n",
      "Using TensorFlow backend.\n"
     ]
    }
   ],
   "source": [
    "import numpy as np\n",
    "np.random.seed(0)\n",
    "from keras.models import Model\n",
    "from keras.layers import Dense, Input, Dropout, LSTM, Activation\n",
    "from keras.layers.embeddings import Embedding\n",
    "from keras.preprocessing import sequence\n",
    "#from keras.initializers import glorot_uniform\n",
    "from keras.preprocessing.text import Tokenizer\n",
    "from keras import regularizers"
   ]
  },
  {
   "cell_type": "code",
   "execution_count": 4,
   "metadata": {},
   "outputs": [
    {
     "name": "stdout",
     "output_type": "stream",
     "text": [
      "<class 'numpy.ndarray'>\n"
     ]
    }
   ],
   "source": [
    "max_len = 75\n",
    "url_int_tokens = [[printable.index(x) + 1 for x in d if x in printable] for d in domain]\n",
    "X = sequence.pad_sequences(url_int_tokens, maxlen=max_len)\n",
    "print(type(X))\n",
    "X_train, X_test, y_train, y_test=train_test_split(X,labels,test_size=0.25,random_state=42)"
   ]
  },
  {
   "cell_type": "code",
   "execution_count": 5,
   "metadata": {},
   "outputs": [],
   "source": [
    "def phising():\n",
    "    main_input = Input(shape=(max_len,), dtype='int32', name='main_input')\n",
    "    emb = Embedding(input_dim=110, output_dim=32, input_length=max_len,\n",
    "                        dropout=0.2, W_regularizer=regularizers.l2(1e-4))(main_input)\n",
    "    X = LSTM(32)(emb)\n",
    "    X =  Dropout(0.5)(X)\n",
    "    X = Dense(1, activation='sigmoid', name='output')(X)\n",
    "    model = Model(inputs=[main_input], outputs=X)\n",
    "    return model"
   ]
  },
  {
   "cell_type": "code",
   "execution_count": 6,
   "metadata": {},
   "outputs": [
    {
     "name": "stderr",
     "output_type": "stream",
     "text": [
      "C:\\Users\\40750\\AppData\\Local\\Continuum\\anaconda3\\lib\\site-packages\\ipykernel_launcher.py:4: UserWarning: The `dropout` argument is no longer support in `Embedding`. You can apply a `keras.layers.SpatialDropout1D` layer right after the `Embedding` layer to get the same behavior.\n",
      "  after removing the cwd from sys.path.\n",
      "C:\\Users\\40750\\AppData\\Local\\Continuum\\anaconda3\\lib\\site-packages\\ipykernel_launcher.py:4: UserWarning: Update your `Embedding` call to the Keras 2 API: `Embedding(input_dim=110, output_dim=32, input_length=75, embeddings_regularizer=<keras.reg...)`\n",
      "  after removing the cwd from sys.path.\n"
     ]
    }
   ],
   "source": [
    "model=phising()"
   ]
  },
  {
   "cell_type": "code",
   "execution_count": 7,
   "metadata": {},
   "outputs": [],
   "source": [
    "model.compile(optimizer='adam', loss='binary_crossentropy', metrics=['accuracy'])"
   ]
  },
  {
   "cell_type": "code",
   "execution_count": 8,
   "metadata": {},
   "outputs": [
    {
     "name": "stdout",
     "output_type": "stream",
     "text": [
      "Epoch 1/15\n",
      "71931/71931 [==============================] - 29s 404us/step - loss: 0.5706 - acc: 0.7094\n",
      "Epoch 2/15\n",
      "71931/71931 [==============================] - 28s 395us/step - loss: 0.3945 - acc: 0.8254\n",
      "Epoch 3/15\n",
      "71931/71931 [==============================] - 29s 403us/step - loss: 0.3485 - acc: 0.8505\n",
      "Epoch 4/15\n",
      "71931/71931 [==============================] - 29s 398us/step - loss: 0.3295 - acc: 0.8594\n",
      "Epoch 5/15\n",
      "71931/71931 [==============================] - 30s 417us/step - loss: 0.3122 - acc: 0.8678\n",
      "Epoch 6/15\n",
      "71931/71931 [==============================] - 30s 416us/step - loss: 0.3006 - acc: 0.8753\n",
      "Epoch 7/15\n",
      "71931/71931 [==============================] - 32s 446us/step - loss: 0.2878 - acc: 0.8814\n",
      "Epoch 8/15\n",
      "71931/71931 [==============================] - 35s 482us/step - loss: 0.2768 - acc: 0.8878\n",
      "Epoch 9/15\n",
      "71931/71931 [==============================] - 35s 489us/step - loss: 0.2662 - acc: 0.8931\n",
      "Epoch 10/15\n",
      "71931/71931 [==============================] - 31s 428us/step - loss: 0.2539 - acc: 0.8985\n",
      "Epoch 11/15\n",
      "71931/71931 [==============================] - 29s 403us/step - loss: 0.2470 - acc: 0.9015\n",
      "Epoch 12/15\n",
      "71931/71931 [==============================] - 31s 426us/step - loss: 0.2364 - acc: 0.9072\n",
      "Epoch 13/15\n",
      "71931/71931 [==============================] - 29s 403us/step - loss: 0.2277 - acc: 0.9103\n",
      "Epoch 14/15\n",
      "71931/71931 [==============================] - 31s 437us/step - loss: 0.2198 - acc: 0.9145\n",
      "Epoch 15/15\n",
      "71931/71931 [==============================] - 31s 430us/step - loss: 0.2132 - acc: 0.9168\n"
     ]
    },
    {
     "data": {
      "text/plain": [
       "<keras.callbacks.History at 0x2440fd3f4e0>"
      ]
     },
     "execution_count": 8,
     "metadata": {},
     "output_type": "execute_result"
    }
   ],
   "source": [
    "model.fit(X_train, y_train, epochs=15, batch_size=1000, verbose=1)"
   ]
  },
  {
   "cell_type": "code",
   "execution_count": 9,
   "metadata": {},
   "outputs": [
    {
     "name": "stdout",
     "output_type": "stream",
     "text": [
      "23977/23977 [==============================] - 8s 344us/step\n"
     ]
    },
    {
     "data": {
      "text/plain": [
       "[0.20806974786114552, 0.9180464611944615]"
      ]
     },
     "execution_count": 9,
     "metadata": {},
     "output_type": "execute_result"
    }
   ],
   "source": [
    "model.evaluate(X_test, y_test, verbose=1)"
   ]
  },
  {
   "cell_type": "code",
   "execution_count": 10,
   "metadata": {},
   "outputs": [
    {
     "name": "stdout",
     "output_type": "stream",
     "text": [
      "[[0.9139967]]\n",
      "malicious\n"
     ]
    }
   ],
   "source": [
    "def predict(x_input):\n",
    "    #print(x_input)\n",
    "    url_int_tokens_1=[[printable.index(x) + 1 for x in x_input if x in printable]]\n",
    "    #print(url_int_tokens_1)\n",
    "    X_1 = sequence.pad_sequences(url_int_tokens_1, maxlen=max_len)\n",
    "    p = model.predict(X_1)\n",
    "    print(p)\n",
    "    #print(model.predict(X_1))\n",
    "    return \"not_malicious\" if p < 0.6 else \"malicious\"\n",
    "x_input=\"https://lnkd.in/dkk5-Ti\"\n",
    "print(predict(x_input))"
   ]
  },
  {
   "cell_type": "code",
   "execution_count": null,
   "metadata": {},
   "outputs": [],
   "source": []
  }
 ],
 "metadata": {
  "kernelspec": {
   "display_name": "Python 3",
   "language": "python",
   "name": "python3"
  },
  "language_info": {
   "codemirror_mode": {
    "name": "ipython",
    "version": 3
   },
   "file_extension": ".py",
   "mimetype": "text/x-python",
   "name": "python",
   "nbconvert_exporter": "python",
   "pygments_lexer": "ipython3",
   "version": "3.6.4"
  }
 },
 "nbformat": 4,
 "nbformat_minor": 2
}
